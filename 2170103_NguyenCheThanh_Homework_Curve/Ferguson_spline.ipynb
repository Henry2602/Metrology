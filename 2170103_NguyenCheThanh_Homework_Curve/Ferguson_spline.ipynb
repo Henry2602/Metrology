{
 "cells": [
  {
   "cell_type": "code",
   "execution_count": 1,
   "metadata": {},
   "outputs": [],
   "source": [
    "import pandas as pd\n",
    "import numpy as np\n",
    "import matplotlib.pyplot as plt\n",
    "import random\n",
    "color = [\"red\", \"orange\", \"lawngreen\", \"violet\", \"seagreen\", \"darkorange\", \"lightseagreen\", \"gold\", \"palevioletred\"]\n",
    "plt.style.use(\"bmh\")\n"
   ]
  },
  {
   "cell_type": "markdown",
   "metadata": {},
   "source": [
    "#### Import data from excel file"
   ]
  },
  {
   "cell_type": "code",
   "execution_count": 2,
   "metadata": {},
   "outputs": [
    {
     "name": "stdout",
     "output_type": "stream",
     "text": [
      "         X      Z\n",
      "0    0.500  2.150\n",
      "1    4.325  2.225\n",
      "2    8.545  3.192\n",
      "3   13.180  4.533\n",
      "4   17.830  6.291\n",
      "5   21.150  7.146\n",
      "6   24.480  7.575\n",
      "7   28.160  7.263\n",
      "8   32.395  6.147\n",
      "9   36.150  4.658\n",
      "10  42.595  2.572\n",
      "11  49.000  2.160\n"
     ]
    }
   ],
   "source": [
    "df = pd.read_excel(\"data.xlsx\")\n",
    "print(df)"
   ]
  },
  {
   "cell_type": "markdown",
   "metadata": {},
   "source": [
    "#### Create band matrix"
   ]
  },
  {
   "cell_type": "code",
   "execution_count": 3,
   "metadata": {},
   "outputs": [
    {
     "name": "stdout",
     "output_type": "stream",
     "text": [
      "[[2. 1. 0. 0. 0. 0. 0. 0. 0. 0. 0. 0.]\n",
      " [1. 4. 1. 0. 0. 0. 0. 0. 0. 0. 0. 0.]\n",
      " [0. 1. 4. 1. 0. 0. 0. 0. 0. 0. 0. 0.]\n",
      " [0. 0. 1. 4. 1. 0. 0. 0. 0. 0. 0. 0.]\n",
      " [0. 0. 0. 1. 4. 1. 0. 0. 0. 0. 0. 0.]\n",
      " [0. 0. 0. 0. 1. 4. 1. 0. 0. 0. 0. 0.]\n",
      " [0. 0. 0. 0. 0. 1. 4. 1. 0. 0. 0. 0.]\n",
      " [0. 0. 0. 0. 0. 0. 1. 4. 1. 0. 0. 0.]\n",
      " [0. 0. 0. 0. 0. 0. 0. 1. 4. 1. 0. 0.]\n",
      " [0. 0. 0. 0. 0. 0. 0. 0. 1. 4. 1. 0.]\n",
      " [0. 0. 0. 0. 0. 0. 0. 0. 0. 1. 4. 1.]\n",
      " [0. 0. 0. 0. 0. 0. 0. 0. 0. 0. 1. 2.]]\n"
     ]
    }
   ],
   "source": [
    "A = np.zeros((len(df), len(df)))\n",
    "A[0][0:2] = [2, 1]\n",
    "for row, column in zip(range(1, len(df)-1, 1), range(0, len(df))):\n",
    "    A[row][column:column+3] = [1, 4 , 1]\n",
    "    row +=1\n",
    "    column += 1\n",
    "A[len(df)-1][len(df)-2:len(df)] = [1, 2]\n",
    "print(A)"
   ]
  },
  {
   "cell_type": "markdown",
   "metadata": {},
   "source": [
    "#### Create geomatric matrix"
   ]
  },
  {
   "cell_type": "code",
   "execution_count": 4,
   "metadata": {},
   "outputs": [
    {
     "name": "stdout",
     "output_type": "stream",
     "text": [
      "[[ 11.475   0.225]\n",
      " [ 24.135   3.126]\n",
      " [ 26.565   6.924]\n",
      " [ 27.855   9.297]\n",
      " [ 23.91    7.839]\n",
      " [ 19.95    3.852]\n",
      " [ 21.03    0.351]\n",
      " [ 23.745  -4.284]\n",
      " [ 23.97   -7.815]\n",
      " [ 30.6   -10.725]\n",
      " [ 38.55   -7.494]\n",
      " [ 19.215  -1.236]]\n"
     ]
    }
   ],
   "source": [
    "B = np.zeros((12, 2))\n",
    "B[0] = np.dot(3,[df[\"X\"][1]-df[\"X\"][0], (df[\"Z\"][1]-df[\"Z\"][0])])\n",
    "for point in range(2, len(df)):\n",
    "    point = len(df)+1-point\n",
    "    B[point-1][0:2] = np.dot(3,[df[\"X\"][point]-df[\"X\"][point-2], (df[\"Z\"][point]-df[\"Z\"][point-2])])\n",
    "B[len(df)-1] = np.dot(3,[df[\"X\"][len(df)-1]-df[\"X\"][len(df)-2], (df[\"Z\"][len(df)-1]-df[\"Z\"][len(df)-2])])\n",
    "print(B)"
   ]
  },
  {
   "cell_type": "markdown",
   "metadata": {},
   "source": [
    "#### Calculate tangent vector matrix"
   ]
  },
  {
   "cell_type": "code",
   "execution_count": 5,
   "metadata": {},
   "outputs": [
    {
     "name": "stdout",
     "output_type": "stream",
     "text": [
      "[[ 3.74184012 -0.14944448]\n",
      " [ 3.99131976  0.52388896]\n",
      " [ 4.42788083  1.17988866]\n",
      " [ 4.86215691  1.68055642]\n",
      " [ 3.97849152  1.39488566]\n",
      " [ 3.13387703  0.57890093]\n",
      " [ 3.43600038  0.14151063]\n",
      " [ 4.15212144 -0.79394346]\n",
      " [ 3.70051384 -1.24973681]\n",
      " [ 5.0158232  -2.02210932]\n",
      " [ 6.83619337 -1.38682591]\n",
      " [ 6.18940331  0.07541295]]\n"
     ]
    }
   ],
   "source": [
    "T = np.dot(np.linalg.inv(A), B)\n",
    "print(T)"
   ]
  },
  {
   "cell_type": "markdown",
   "metadata": {},
   "source": [
    "#### Probe radius compensation"
   ]
  },
  {
   "cell_type": "code",
   "execution_count": 6,
   "metadata": {},
   "outputs": [
    {
     "name": "stdout",
     "output_type": "stream",
     "text": [
      "[ 0.         -0.14944448]\n",
      "[0.         0.52388896]\n",
      "[0.         1.17988866]\n",
      "[0.         1.68055642]\n",
      "[0.         1.39488566]\n",
      "[0.         0.57890093]\n",
      "[0.         0.14151063]\n",
      "[ 0.         -0.79394346]\n",
      "[ 0.         -1.24973681]\n",
      "[ 0.         -2.02210932]\n",
      "[ 0.         -1.38682591]\n",
      "[0.         0.07541295]\n",
      "[[ 0.5    3.15 ]\n",
      " [ 4.325  1.225]\n",
      " [ 8.545  2.192]\n",
      " [13.18   3.533]\n",
      " [17.83   5.291]\n",
      " [21.15   6.146]\n",
      " [24.48   6.575]\n",
      " [28.16   8.263]\n",
      " [32.395  7.147]\n",
      " [36.15   5.658]\n",
      " [42.595  3.572]\n",
      " [49.     1.16 ]]\n"
     ]
    }
   ],
   "source": [
    "radius = 1\n",
    "radius_compensation_matrix = np.zeros((len(df), 2))\n",
    "for point in range(0, len(radius_compensation_matrix), 1):\n",
    "    normal_vector = np.multiply(T[point], np.array([0, 1]))\n",
    "    print(normal_vector)\n",
    "    unit_normal_vector = normal_vector * (1/np.sqrt(normal_vector[0]**2 + normal_vector[1]**2))\n",
    "    radius_compensation_matrix[point] = np.array([df[\"X\"][point], df[\"Z\"][point]])-np.dot(unit_normal_vector,radius)\n",
    "print(radius_compensation_matrix)"
   ]
  },
  {
   "cell_type": "markdown",
   "metadata": {},
   "source": [
    "#### Plot Curve"
   ]
  },
  {
   "cell_type": "code",
   "execution_count": 7,
   "metadata": {},
   "outputs": [
    {
     "data": {
      "image/png": "[encoded data removed]",
      "text/plain": [
       "<Figure size 720x576 with 1 Axes>"
      ]
     },
     "metadata": {
      "needs_background": "light"
     },
     "output_type": "display_data"
    }
   ],
   "source": [
    "points_num = 41\n",
    "fig = plt.figure(figsize=(10, 8)).add_subplot()\n",
    "for i in range(0, len(df)-1, 1): \n",
    "    u = 0\n",
    "    pointsX = []\n",
    "    pointsY = []\n",
    "    boundary_condition = np.array([[df[\"X\"][i], df[\"Z\"][i]],[df[\"X\"][i+1], df[\"Z\"][i+1]],T[i],T[i+1]])\n",
    "    for point_num in range(0, points_num):\n",
    "        f1_u = 1 - 3*(u**2) + 2*(u**3)\n",
    "        f2_u = 3*(u**2) - 2*(u**3)\n",
    "        f3_u = u - 2*(u**2) + (u**3)\n",
    "        f4_u = -(u**2) + u**3\n",
    "        blending_function = np.array([f1_u, f2_u, f3_u, f4_u])\n",
    "        u = u + 1/(points_num-1)\n",
    "        pointsX.append(np.dot(blending_function, boundary_condition)[0])\n",
    "        pointsY.append(np.dot(blending_function, boundary_condition)[1])\n",
    "    plt.plot(pointsX, pointsY, color=random.choice(color), lw=3)\n",
    "    plt.plot(df[\"X\"], df[\"Z\"], marker=\".\", color=\"black\", lw=0.5)\n",
    "plt.xlabel(\"X\")\n",
    "plt.ylabel(\"Y\")\n",
    "plt.show()\n"
   ]
  },
  {
   "cell_type": "code",
   "execution_count": null,
   "metadata": {},
   "outputs": [],
   "source": []
  }
 ],
 "metadata": {
  "kernelspec": {
   "display_name": "Python 3",
   "language": "python",
   "name": "python3"
  },
  "language_info": {
   "codemirror_mode": {
    "name": "ipython",
    "version": 3
   },
   "file_extension": ".py",
   "mimetype": "text/x-python",
   "name": "python",
   "nbconvert_exporter": "python",
   "pygments_lexer": "ipython3",
   "version": "3.9.7"
  }
 },
 "nbformat": 4,
 "nbformat_minor": 2
}
