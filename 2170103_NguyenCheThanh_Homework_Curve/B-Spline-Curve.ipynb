{
 "cells": [
  {
   "cell_type": "code",
   "execution_count": 1,
   "id": "ed348027",
   "metadata": {},
   "outputs": [],
   "source": [
    "import pandas as pd\n",
    "import numpy as np\n",
    "import matplotlib.pyplot as plt\n",
    "import random\n",
    "plt.style.use(\"bmh\")"
   ]
  },
  {
   "cell_type": "code",
   "execution_count": 2,
   "id": "abe1ac4a",
   "metadata": {},
   "outputs": [
    {
     "name": "stdout",
     "output_type": "stream",
     "text": [
      "         X      Y  Z\n",
      "0    0.500  2.150  0\n",
      "1    4.325  2.225  0\n",
      "2    8.545  3.192  0\n",
      "3   13.180  4.533  0\n",
      "4   17.830  6.291  0\n",
      "5   21.150  7.146  0\n",
      "6   24.480  7.575  0\n",
      "7   28.160  7.263  0\n",
      "8   32.395  6.147  0\n",
      "9   36.150  4.658  0\n",
      "10  42.595  2.572  0\n",
      "11  49.000  2.160  0\n"
     ]
    }
   ],
   "source": [
    "data_points = pd.read_excel(\"data_1.xlsx\")\n",
    "color = [\"red\", \"orange\", \"lawngreen\", \"violet\", \"seagreen\", \"darkorange\", \"lightseagreen\", \"gold\", \"palevioletred\"]\n",
    "\n",
    "print(data_points)"
   ]
  },
  {
   "cell_type": "markdown",
   "id": "df35fed6",
   "metadata": {},
   "source": [
    "#### Create Geometric Matrix"
   ]
  },
  {
   "cell_type": "code",
   "execution_count": 3,
   "id": "63d5d11a",
   "metadata": {
    "scrolled": true
   },
   "outputs": [
    {
     "name": "stdout",
     "output_type": "stream",
     "text": [
      "[[  0.      0.      0.   ]\n",
      " [  3.     12.9     0.   ]\n",
      " [ 25.95   13.35    0.   ]\n",
      " [ 51.27   19.152   0.   ]\n",
      " [ 79.08   27.198   0.   ]\n",
      " [106.98   37.746   0.   ]\n",
      " [126.9    42.876   0.   ]\n",
      " [146.88   45.45    0.   ]\n",
      " [168.96   43.578   0.   ]\n",
      " [194.37   36.882   0.   ]\n",
      " [216.9    27.948   0.   ]\n",
      " [255.57   15.432   0.   ]\n",
      " [294.     12.96    0.   ]\n",
      " [  0.      0.      0.   ]]\n"
     ]
    }
   ],
   "source": [
    "geometric_matrix = np.zeros((len(data_points)+2, 3))\n",
    "geometric_matrix[0] = [0, 0, 0]\n",
    "for index in range(1, len(data_points)+1):\n",
    "    geometric_matrix[index] = [6*data_points[\"X\"][index-1], 6*data_points[\"Y\"][index-1], 6*data_points[\"Z\"][index-1]]\n",
    "geometric_matrix[len(data_points)+1] = [0, 0 ,0]\n",
    "\n",
    "print(geometric_matrix)"
   ]
  },
  {
   "cell_type": "markdown",
   "id": "31a0fb32",
   "metadata": {},
   "source": [
    "#### Create coefficient matrix"
   ]
  },
  {
   "cell_type": "code",
   "execution_count": 4,
   "id": "50cb5be1",
   "metadata": {
    "scrolled": true
   },
   "outputs": [
    {
     "name": "stdout",
     "output_type": "stream",
     "text": [
      "[[ 1. -1.  0.  0.  0.  0.  0.  0.  0.  0.  0.  0.  0.  0.]\n",
      " [ 1.  4.  1.  0.  0.  0.  0.  0.  0.  0.  0.  0.  0.  0.]\n",
      " [ 0.  1.  4.  1.  0.  0.  0.  0.  0.  0.  0.  0.  0.  0.]\n",
      " [ 0.  0.  1.  4.  1.  0.  0.  0.  0.  0.  0.  0.  0.  0.]\n",
      " [ 0.  0.  0.  1.  4.  1.  0.  0.  0.  0.  0.  0.  0.  0.]\n",
      " [ 0.  0.  0.  0.  1.  4.  1.  0.  0.  0.  0.  0.  0.  0.]\n",
      " [ 0.  0.  0.  0.  0.  1.  4.  1.  0.  0.  0.  0.  0.  0.]\n",
      " [ 0.  0.  0.  0.  0.  0.  1.  4.  1.  0.  0.  0.  0.  0.]\n",
      " [ 0.  0.  0.  0.  0.  0.  0.  1.  4.  1.  0.  0.  0.  0.]\n",
      " [ 0.  0.  0.  0.  0.  0.  0.  0.  1.  4.  1.  0.  0.  0.]\n",
      " [ 0.  0.  0.  0.  0.  0.  0.  0.  0.  1.  4.  1.  0.  0.]\n",
      " [ 0.  0.  0.  0.  0.  0.  0.  0.  0.  0.  1.  4.  1.  0.]\n",
      " [ 0.  0.  0.  0.  0.  0.  0.  0.  0.  0.  0.  1.  4.  1.]\n",
      " [ 0.  0.  0.  0.  0.  0.  0.  0.  0.  0.  0.  0.  1. -1.]]\n"
     ]
    }
   ],
   "source": [
    "M = np.zeros((len(data_points)+2, len(data_points)+2))\n",
    "M[0][0:2] = [1, -1]\n",
    "for row, column in zip(range(1, len(data_points)+1, 1), range(0, len(data_points))):\n",
    "    M[row][column:column+3] = [1, 4 , 1]\n",
    "    row +=1\n",
    "    column += 1\n",
    "M[len(data_points)+1][len(data_points):len(data_points)+2] = [1, -1]\n",
    "print(M)"
   ]
  },
  {
   "cell_type": "markdown",
   "id": "92eb2b21",
   "metadata": {},
   "source": [
    "#### Calculate control vertices matrix"
   ]
  },
  {
   "cell_type": "code",
   "execution_count": 5,
   "id": "82dbba7c",
   "metadata": {
    "scrolled": true
   },
   "outputs": [
    {
     "name": "stdout",
     "output_type": "stream",
     "text": [
      "[[-0.29074435  2.18158133  0.        ]\n",
      " [-0.29074435  2.18158133  0.        ]\n",
      " [ 4.45372174  1.99209336  0.        ]\n",
      " [ 8.42585737  3.20004524  0.        ]\n",
      " [13.11284877  4.3597257   0.        ]\n",
      " [18.20274754  6.55905197  0.        ]\n",
      " [21.05616108  7.15006644  0.        ]\n",
      " [24.47260815  7.71668228  0.        ]\n",
      " [27.93340631  7.43320444  0.        ]\n",
      " [32.75376661  6.12849994  0.        ]\n",
      " [35.42152724  4.93479579  0.        ]\n",
      " [42.46012441  2.0803169   0.        ]\n",
      " [50.30797512  2.17593662  0.        ]\n",
      " [50.30797512  2.17593662  0.        ]]\n"
     ]
    }
   ],
   "source": [
    "vertices_matrix = np.dot(np.linalg.inv(M),geometric_matrix)\n",
    "print(vertices_matrix)"
   ]
  },
  {
   "cell_type": "markdown",
   "id": "bf1feaf7",
   "metadata": {},
   "source": [
    "#### Create constant matrix"
   ]
  },
  {
   "cell_type": "code",
   "execution_count": 6,
   "id": "41acbc1d",
   "metadata": {},
   "outputs": [],
   "source": [
    "con_matrix = [[-1, 3, -3, 1],\n",
    "              [3, -6, 3, 0],\n",
    "              [-3, 0, 3, 0],\n",
    "              [1, 4, 1, 0]]\n",
    "con_matrix = np.array(con_matrix)"
   ]
  },
  {
   "cell_type": "markdown",
   "id": "ca70ec59",
   "metadata": {},
   "source": [
    "#### Plot the curve"
   ]
  },
  {
   "cell_type": "code",
   "execution_count": 7,
   "id": "839ba99f",
   "metadata": {},
   "outputs": [
    {
     "data": {
      "image/png": "[encoded data removed]",
      "text/plain": [
       "<Figure size 720x576 with 1 Axes>"
      ]
     },
     "metadata": {
      "needs_background": "light"
     },
     "output_type": "display_data"
    }
   ],
   "source": [
    "points_num = 41\n",
    "pointsX = []\n",
    "pointsY = []\n",
    "plt.style.use(\"bmh\")\n",
    "fig = plt.figure(figsize=(10, 8)).add_subplot()\n",
    "for i in range(0, len(data_points) + 2 - 3, 1):\n",
    "    u = 0\n",
    "    control_points = vertices_matrix[i:i+4]\n",
    "#     print(control_points)\n",
    "    for point_num in range(0, points_num):\n",
    "        f1_u = (1/6)*u**3\n",
    "        f2_u = (1/6)*u**2\n",
    "        f3_u = (1/6)*u\n",
    "        f4_u = 1/6\n",
    "        blending_function = np.array([f1_u, f2_u, f3_u, f4_u])\n",
    "        u = u + 1 / (points_num - 1)\n",
    "        pointsX.append(np.dot(np.dot(blending_function, con_matrix), control_points)[0])\n",
    "        pointsY.append(np.dot(np.dot(blending_function, con_matrix), control_points)[1])\n",
    "    plt.plot(pointsX, pointsY, color=random.choice(color), lw=3)\n",
    "    plt.plot(data_points[\"X\"], data_points[\"Y\"], marker=\"o\", color=\"black\", ls=\"--\", lw=1)\n",
    "    pointsX = []\n",
    "    pointsY = []\n",
    "plt.xlabel(\"X\")\n",
    "plt.ylabel(\"Y\")\n",
    "plt.show()"
   ]
  }
 ],
 "metadata": {
  "kernelspec": {
   "display_name": "Python 3",
   "language": "python",
   "name": "python3"
  },
  "language_info": {
   "codemirror_mode": {
    "name": "ipython",
    "version": 3
   },
   "file_extension": ".py",
   "mimetype": "text/x-python",
   "name": "python",
   "nbconvert_exporter": "python",
   "pygments_lexer": "ipython3",
   "version": "3.9.7"
  }
 },
 "nbformat": 4,
 "nbformat_minor": 5
}
