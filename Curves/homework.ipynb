{
 "cells": [
  {
   "cell_type": "code",
   "execution_count": 397,
   "metadata": {},
   "outputs": [],
   "source": [
    "import pandas as pd\n",
    "import numpy as np"
   ]
  },
  {
   "cell_type": "markdown",
   "metadata": {},
   "source": [
    "#### Import data from excel file"
   ]
  },
  {
   "cell_type": "code",
   "execution_count": 398,
   "metadata": {},
   "outputs": [
    {
     "name": "stdout",
     "output_type": "stream",
     "text": [
      "         X      Z\n",
      "0    0.500  2.150\n",
      "1    4.325  2.225\n",
      "2    8.545  3.192\n",
      "3   13.180  4.533\n",
      "4   17.830  6.291\n",
      "5   21.150  7.146\n",
      "6   24.480  7.575\n",
      "7   28.160  7.263\n",
      "8   32.395  6.147\n",
      "9   36.150  4.658\n",
      "10  42.595  2.572\n",
      "11  49.000  2.160\n"
     ]
    }
   ],
   "source": [
    "df = pd.read_excel(\"data.xlsx\")\n",
    "print(df)"
   ]
  },
  {
   "cell_type": "markdown",
   "metadata": {},
   "source": [
    "#### Create band matrix"
   ]
  },
  {
   "cell_type": "code",
   "execution_count": 399,
   "metadata": {},
   "outputs": [
    {
     "name": "stdout",
     "output_type": "stream",
     "text": [
      "[[2. 1. 0. 0. 0. 0. 0. 0. 0. 0. 0. 0.]\n",
      " [1. 4. 1. 0. 0. 0. 0. 0. 0. 0. 0. 0.]\n",
      " [0. 1. 4. 1. 0. 0. 0. 0. 0. 0. 0. 0.]\n",
      " [0. 0. 1. 4. 1. 0. 0. 0. 0. 0. 0. 0.]\n",
      " [0. 0. 0. 1. 4. 1. 0. 0. 0. 0. 0. 0.]\n",
      " [0. 0. 0. 0. 1. 4. 1. 0. 0. 0. 0. 0.]\n",
      " [0. 0. 0. 0. 0. 1. 4. 1. 0. 0. 0. 0.]\n",
      " [0. 0. 0. 0. 0. 0. 1. 4. 1. 0. 0. 0.]\n",
      " [0. 0. 0. 0. 0. 0. 0. 1. 4. 1. 0. 0.]\n",
      " [0. 0. 0. 0. 0. 0. 0. 0. 1. 4. 1. 0.]\n",
      " [0. 0. 0. 0. 0. 0. 0. 0. 0. 1. 4. 1.]\n",
      " [0. 0. 0. 0. 0. 0. 0. 0. 0. 0. 1. 2.]]\n"
     ]
    }
   ],
   "source": [
    "A = np.zeros((len(df), len(df)))\n",
    "A[0][0:2] = [2, 1]\n",
    "for row, column in zip(range(1, len(df)-1, 1), range(0, len(df))):\n",
    "    A[row][column:column+3] = [1, 4 , 1]\n",
    "    row +=1\n",
    "    column += 1\n",
    "A[len(df)-1][len(df)-2:len(df)] = [1, 2]\n",
    "print(A)"
   ]
  },
  {
   "cell_type": "markdown",
   "metadata": {},
   "source": [
    "#### Create geomatric matrix"
   ]
  },
  {
   "cell_type": "code",
   "execution_count": 400,
   "metadata": {},
   "outputs": [
    {
     "name": "stdout",
     "output_type": "stream",
     "text": [
      "[[  0.      0.   ]\n",
      " [ 24.135   9.378]\n",
      " [ 26.565  20.772]\n",
      " [ 27.855  27.891]\n",
      " [ 23.91   23.517]\n",
      " [ 19.95   11.556]\n",
      " [ 21.03    1.053]\n",
      " [ 23.745 -12.852]\n",
      " [ 23.97  -23.445]\n",
      " [ 30.6   -32.175]\n",
      " [ 38.55  -22.482]\n",
      " [  0.      0.   ]]\n"
     ]
    }
   ],
   "source": [
    "B = np.zeros((12, 2))\n",
    "for point in range(2, len(df)):\n",
    "    point = len(df)+1-point\n",
    "    B[point-1][0:2] = np.dot(3,[df[\"X\"][point]-df[\"X\"][point-2], 3*(df[\"Z\"][point]-df[\"Z\"][point-2])])\n",
    "print(B)"
   ]
  },
  {
   "cell_type": "markdown",
   "metadata": {},
   "source": [
    "#### Calculate tengent vector matrix"
   ]
  },
  {
   "cell_type": "code",
   "execution_count": 401,
   "metadata": {},
   "outputs": [
    {
     "name": "stdout",
     "output_type": "stream",
     "text": [
      "[[-2.88324288 -0.83804705]\n",
      " [ 5.76648576  1.67609411]\n",
      " [ 3.95229985  3.51167063]\n",
      " [ 4.98931484  5.04922339]\n",
      " [ 3.9454408   4.18243581]\n",
      " [ 3.13892195  1.73803336]\n",
      " [ 3.44887139  0.42143073]\n",
      " [ 4.09559247 -2.3707563 ]\n",
      " [ 3.91375872 -3.79040553]\n",
      " [ 4.21937265 -5.91262159]\n",
      " [ 9.80875067 -4.73410812]\n",
      " [-4.90437534  2.36705406]]\n"
     ]
    }
   ],
   "source": [
    "T = np.dot(np.linalg.inv(A), B)\n",
    "print(T)"
   ]
  }
 ],
 "metadata": {
  "kernelspec": {
   "display_name": "Python 3",
   "language": "python",
   "name": "python3"
  },
  "language_info": {
   "codemirror_mode": {
    "name": "ipython",
    "version": 3
   },
   "file_extension": ".py",
   "mimetype": "text/x-python",
   "name": "python",
   "nbconvert_exporter": "python",
   "pygments_lexer": "ipython3",
   "version": "3.11.6"
  },
  "orig_nbformat": 4
 },
 "nbformat": 4,
 "nbformat_minor": 2
}
